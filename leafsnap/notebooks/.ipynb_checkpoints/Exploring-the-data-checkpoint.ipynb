{
 "cells": [
  {
   "cell_type": "markdown",
   "metadata": {},
   "source": [
    "# Exploring the Leafsnap dataset"
   ]
  },
  {
   "cell_type": "code",
   "execution_count": 6,
   "metadata": {},
   "outputs": [],
   "source": [
    "import os\n",
    "import random\n",
    "from shutil import rmtree"
   ]
  },
  {
   "cell_type": "markdown",
   "metadata": {},
   "source": [
    "The Leafsnap dataset can be downloaded from http://leafsnap.com/dataset/. Download the .tar file and extract it in the directory containing this notebook. Note that the dataset uses 1.1 Gb of disk space.\n",
    "\n",
    "The next function splits the data into a training set and a test set. By default, the training set has 80% of the images, and the test set has 20%. Be sure to set the random seed if you want the split to be reproducible.\n",
    "\n",
    "Each training example consists of an image and a corresponding image mask. The image mask is a .png file with all pixels perfectly white (#ffffff) or black (#000000). The white pixels indicate the region of the image containing the leaf. The mask is all black in a few cases where the segmentation algorithm was unable to find the leaf."
   ]
  },
  {
   "cell_type": "code",
   "execution_count": 7,
   "metadata": {},
   "outputs": [],
   "source": [
    "def make_train_test_split(seed=None):\n",
    "    if not os.path.isdir('../dataset'):\n",
    "        print('Data directory not found. Did you download and extract the data?')\n",
    "        return\n",
    "    if os.path.isdir('../data'):\n",
    "        rmtree('../data')\n",
    "    os.mkdir('../data')\n",
    "    if seed is None:\n",
    "        random.seed(seed)\n",
    "    tt_dict = {}\n",
    "    for dirpath, dirnames, filenames in os.walk('../dataset'):\n",
    "        if len(dirnames) == 0:\n",
    "            for tt in ('test', 'train', 'validate'):\n",
    "                newdir = dirpath.replace('/dataset/', '/data/{}/'.format(tt))\n",
    "                os.makedirs(newdir, exist_ok=True)\n",
    "            for filename in filenames:\n",
    "                source = \"{}/{}\".format(dirpath, filename)\n",
    "                basename = filename.rsplit('.', 1)[0]\n",
    "                if basename in tt_dict:\n",
    "                    tt = tt_dict[basename]\n",
    "                else:\n",
    "                    rnd = random.random()\n",
    "                    if rnd < 0.6:\n",
    "                        tt = 'train'\n",
    "                    elif rnd < 0.8:\n",
    "                        tt = 'validate'\n",
    "                    else:\n",
    "                        tt = 'test'\n",
    "                    tt_dict[basename] = tt\n",
    "                destination = source.replace('/dataset/', '/data/{}/'.format(tt))\n",
    "                os.rename(source, destination)\n",
    "                print('Renamed {} to {}'.format(source, destination))\n",
    "    rmtree('../dataset')"
   ]
  },
  {
   "cell_type": "code",
   "execution_count": 9,
   "metadata": {},
   "outputs": [],
   "source": [
    "make_train_test_split(seed=1)"
   ]
  },
  {
   "cell_type": "code",
   "execution_count": null,
   "metadata": {},
   "outputs": [],
   "source": []
  }
 ],
 "metadata": {
  "kernelspec": {
   "display_name": "Python 3",
   "language": "python",
   "name": "python3"
  },
  "language_info": {
   "codemirror_mode": {
    "name": "ipython",
    "version": 3
   },
   "file_extension": ".py",
   "mimetype": "text/x-python",
   "name": "python",
   "nbconvert_exporter": "python",
   "pygments_lexer": "ipython3",
   "version": "3.6.4"
  }
 },
 "nbformat": 4,
 "nbformat_minor": 2
}
